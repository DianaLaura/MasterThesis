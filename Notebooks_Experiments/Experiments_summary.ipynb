{
 "cells": [
  {
   "cell_type": "markdown",
   "metadata": {},
   "source": [
    "This notebook presents the models and the parameters that performed best. The model expect a data frame that contains at least:\n",
    "- a text (tokenized)\n",
    "- a year"
   ]
  },
  {
   "cell_type": "code",
   "execution_count": null,
   "metadata": {},
   "outputs": [],
   "source": [
    "import pandas as pd\n",
    "import numpy as np\n",
    "import nltk\n",
    "\n",
    "from sklearn.pipeline import Pipeline\n",
    "from sklearn.feature_extraction.text import CountVectorizer\n",
    "from sklearn.feature_selection import SelectKBest , f_regression\n",
    "from sklearn import linear_model\n",
    "from sklearn import svm\n",
    "from sklearn.metrics import mean_squared_error\n",
    "from Selfwritten_modules.SubwordTransformer import SubwordTransformer\n",
    "import sklearn.utils\n",
    "import re\n",
    "\n",
    "\n",
    "\n",
    "import eli5"
   ]
  },
  {
   "cell_type": "code",
   "execution_count": null,
   "metadata": {},
   "outputs": [],
   "source": [
    "DTA_train_full = pd.read_csv('', sep=';')\n",
    "DTA_val_full = pd.read_csv('', sep=';')\n",
    "DTA_test_full = pd.read_csv('', sep=';')"
   ]
  },
  {
   "cell_type": "code",
   "execution_count": null,
   "metadata": {},
   "outputs": [],
   "source": [
    "print('Length train set: ',len(DTA_train_full))\n",
    "print('Length validation set: ', len(DTA_val_full))\n",
    "print('Length test set: ', len(DTA_test_full))"
   ]
  },
  {
   "cell_type": "code",
   "execution_count": null,
   "metadata": {},
   "outputs": [],
   "source": [
    "DTA_train_x = DTA_train_full['Text']\n",
    "DTA_train_y = DTA_train_full['Publication_year']\n",
    "\n",
    "DTA_val_x = DTA_val_full['Text']\n",
    "DTA_val_y = DTA_val_full['Publication_year']\n",
    "\n",
    "DTA_test_x = DTA_test_full['Text']\n",
    "DTA_test_y = DTA_test_full['Publication_year']"
   ]
  },
  {
   "cell_type": "code",
   "execution_count": null,
   "metadata": {},
   "outputs": [],
   "source": [
    "CLMET_train_full = pd.read_csv('', sep=';')\n",
    "CLMET_val_full = pd.read_csv('', sep=';')\n",
    "CLMET_test_full = pd.read_csv('', sep=';')"
   ]
  },
  {
   "cell_type": "code",
   "execution_count": null,
   "metadata": {},
   "outputs": [],
   "source": [
    "#drop rows with invalid data types\n",
    "CLMET_train_full = CLMET_train_full[CLMET_train_full.Year.str.len()== 4]\n",
    "CLMET_val_full = CLMET_val_full[CLMET_val_full.Year.str.len()== 4]\n",
    "CLMET_test_full = CLMET_test_full[CLMET_test_full.Year.str.len()== 4]"
   ]
  },
  {
   "cell_type": "code",
   "execution_count": null,
   "metadata": {},
   "outputs": [],
   "source": [
    "print('Length train set: ',len(CLMET_train_full))\n",
    "print('Length validation set: ', len(CLMET_val_full))\n",
    "print('Length test set: ', len(CLMET_test_full))"
   ]
  },
  {
   "cell_type": "code",
   "execution_count": null,
   "metadata": {},
   "outputs": [],
   "source": [
    "CLMET_train_x = CLMET_train_full['Text']\n",
    "CLMET_train_y = CLMET_train_full['Year'].astype(int)\n",
    "\n",
    "CLMET_val_x = CLMET_val_full['Text']\n",
    "CLMET_val_y = CLMET_val_full['Year'].astype(int)\n",
    "\n",
    "CLMET_test_x = CLMET_test_full['Text']\n",
    "CLMET_test_y = CLMET_test_full['Year'].astype(int)"
   ]
  },
  {
   "cell_type": "code",
   "execution_count": null,
   "metadata": {},
   "outputs": [],
   "source": [
    "ARCHER_train_full = pd.read_csv('', sep=';')\n",
    "ARCHER_val_full = pd.read_csv('', sep=';')\n",
    "ARCHER_test_full = pd.read_csv('', sep=';')"
   ]
  },
  {
   "cell_type": "code",
   "execution_count": null,
   "metadata": {},
   "outputs": [],
   "source": [
    "ARCHER_train_full = ARCHER_train_full[(ARCHER_train_full.Year.str.len()== 4) & (ARCHER_train_full.Year.str.isnumeric())]\n",
    "\n",
    "ARCHER_val_full = ARCHER_val_full[(ARCHER_val_full.Year.str.len()== 4) & (ARCHER_val_full.Year.str.isnumeric())]\n",
    "\n",
    "ARCHER_test_full = ARCHER_test_full[(ARCHER_test_full.Year.str.len()== 4) & (ARCHER_test_full.Year.str.isnumeric())]"
   ]
  },
  {
   "cell_type": "code",
   "execution_count": null,
   "metadata": {},
   "outputs": [],
   "source": [
    "print('Length train set: ',len(ARCHER_train_full))\n",
    "print('Length validation set: ', len(ARCHER_val_full))\n",
    "print('Length test set: ', len(ARCHER_test_full))"
   ]
  },
  {
   "cell_type": "code",
   "execution_count": null,
   "metadata": {},
   "outputs": [],
   "source": [
    "ARCHER_train_x = ARCHER_train_full['Text']\n",
    "ARCHER_train_y = ARCHER_train_full['Year'].astype(int)\n",
    "\n",
    "ARCHER_val_x = ARCHER_val_full['Text']\n",
    "ARCHER_val_y = ARCHER_val_full['Year'].astype(int)\n",
    "\n",
    "ARCHER_test_x = ARCHER_test_full['Text']\n",
    "ARCHER_test_y = ARCHER_test_full['Year'].astype(int)"
   ]
  },
  {
   "cell_type": "code",
   "execution_count": null,
   "metadata": {},
   "outputs": [],
   "source": [
    "GERMANC_train_full = pd.read_csv('', sep=';')\n",
    "GERMANC_val_full = pd.read_csv('', sep=';')\n",
    "GERMANC_test_full = pd.read_csv('', sep=';')"
   ]
  },
  {
   "cell_type": "code",
   "execution_count": null,
   "metadata": {},
   "outputs": [],
   "source": [
    "GERMANC_train_full = GERMANC_train_full[(GERMANC_train_full.Year.str.len()== 4) & (GERMANC_train_full.Year.str.isnumeric())]\n",
    "\n",
    "GERMANC_val_full = GERMANC_val_full[(GERMANC_val_full.Year.str.len()== 4) & (GERMANC_val_full.Year.str.isnumeric())]\n",
    "\n",
    "GERMANC_test_full = GERMANC_test_full[(GERMANC_test_full.Year.str.len()== 4) & (GERMANC_test_full.Year.str.isnumeric())]"
   ]
  },
  {
   "cell_type": "code",
   "execution_count": null,
   "metadata": {},
   "outputs": [],
   "source": [
    "print('Length train set: ',len(GERMANC_train_full))\n",
    "print('Length validation set: ', len(GERMANC_val_full))\n",
    "print('Length test set: ', len(GERMANC_test_full))"
   ]
  },
  {
   "cell_type": "code",
   "execution_count": null,
   "metadata": {},
   "outputs": [],
   "source": [
    "GERMANC_train_x = GERMANC_train_full['Text']\n",
    "GERMANC_train_y = GERMANC_train_full['Year'].astype(int)\n",
    "\n",
    "GERMANC_val_x = GERMANC_val_full['Text']\n",
    "GERMANC_val_y = GERMANC_val_full['Year'].astype(int)\n",
    "\n",
    "GERMANC_test_x = GERMANC_test_full['Text']\n",
    "GERMANC_test_y = GERMANC_test_full['Year'].astype(int)"
   ]
  },
  {
   "cell_type": "markdown",
   "metadata": {},
   "source": [
    "**Linear Regression with words**"
   ]
  },
  {
   "cell_type": "code",
   "execution_count": null,
   "metadata": {},
   "outputs": [],
   "source": [
    "DTA = Pipeline([('subwords', SubwordTransformer(tokenizer=tokenizer_word, number_of_merges=3, n_best = 30)),\n",
    "                ('ridge_reg', linear_model.Ridge())\n",
    "                        ])"
   ]
  },
  {
   "cell_type": "code",
   "execution_count": null,
   "metadata": {},
   "outputs": [],
   "source": [
    "DTA.fit(DTA_train_x, DTA_train_y)"
   ]
  },
  {
   "cell_type": "code",
   "execution_count": null,
   "metadata": {},
   "outputs": [],
   "source": [
    "y_pred_train = DTA.predict(DTA_train_x)\n",
    "mean_squared_error(DTA_train_y, y_pred_train)"
   ]
  },
  {
   "cell_type": "code",
   "execution_count": null,
   "metadata": {},
   "outputs": [],
   "source": [
    "y_pred_val = DTA.predict(DTA_val_x)\n",
    "mean_squared_error(DTA_val_y, y_pred_val)"
   ]
  },
  {
   "cell_type": "code",
   "execution_count": null,
   "metadata": {},
   "outputs": [],
   "source": [
    "y_pred_test = DTA.predict(DTA_test_x)\n",
    "mean_squared_error(DTA_test_y, y_pred_test)"
   ]
  },
  {
   "cell_type": "code",
   "execution_count": null,
   "metadata": {},
   "outputs": [],
   "source": [
    "GERMANC = Pipeline([('subwords', SubwordTransformer(tokenizer=tokenizer_word, number_of_merges=1, n_best = 18)),\n",
    "                ('ridge_reg', linear_model.Ridge())\n",
    "                        ])"
   ]
  },
  {
   "cell_type": "code",
   "execution_count": null,
   "metadata": {},
   "outputs": [],
   "source": [
    "GERMANC.fit(GERMANC_train_x, GERMANC_train_y)"
   ]
  },
  {
   "cell_type": "code",
   "execution_count": null,
   "metadata": {},
   "outputs": [],
   "source": [
    "y_pred_train = GERMANC.predict(GERMANC_train_x)\n",
    "mean_squared_error(GERMANC_train_y, y_pred_train)"
   ]
  },
  {
   "cell_type": "code",
   "execution_count": null,
   "metadata": {},
   "outputs": [],
   "source": [
    "y_pred_val = GERMANC.predict(GERMANC_val_x)\n",
    "mean_squared_error(GERMANC_val_y, y_pred_val)"
   ]
  },
  {
   "cell_type": "code",
   "execution_count": null,
   "metadata": {},
   "outputs": [],
   "source": [
    "y_pred_test = GERMANC.predict(GERMANC_test_x)\n",
    "mean_squared_error(GERMANC_test_y, y_pred_test)"
   ]
  },
  {
   "cell_type": "code",
   "execution_count": null,
   "metadata": {},
   "outputs": [],
   "source": [
    "ARCHER = Pipeline([('subwords', SubwordTransformer(tokenizer=tokenizer_word, number_of_merges=3, n_best = 35)),\n",
    "                ('ridge_reg', linear_model.Ridge())\n",
    "                        ])"
   ]
  },
  {
   "cell_type": "code",
   "execution_count": null,
   "metadata": {},
   "outputs": [],
   "source": [
    "ARCHER.fit(ARCHER_train_x, ARCHER_train_y)"
   ]
  },
  {
   "cell_type": "code",
   "execution_count": null,
   "metadata": {},
   "outputs": [],
   "source": [
    "y_pred_train = ARCHER.predict(ARCHER_train_x)\n",
    "mean_squared_error(ARCHER_train_y, y_pred_train)"
   ]
  },
  {
   "cell_type": "code",
   "execution_count": null,
   "metadata": {},
   "outputs": [],
   "source": [
    "y_pred_val = ARCHER.predict(ARCHER_val_x)\n",
    "mean_squared_error(ARCHER_val_y, y_pred_val)"
   ]
  },
  {
   "cell_type": "code",
   "execution_count": null,
   "metadata": {},
   "outputs": [],
   "source": [
    "y_pred_test = ARCHER.predict(ARCHER_test_x)\n",
    "mean_squared_error(ARCHER_test_y, y_pred_test)"
   ]
  },
  {
   "cell_type": "code",
   "execution_count": null,
   "metadata": {},
   "outputs": [],
   "source": [
    "CLMET = Pipeline([('subwords', SubwordTransformer(tokenizer=tokenizer_word, number_of_merges=1, n_best = 15)),\n",
    "                ('ridge_reg', linear_model.Ridge())\n",
    "                        ])"
   ]
  },
  {
   "cell_type": "code",
   "execution_count": null,
   "metadata": {},
   "outputs": [],
   "source": [
    "CLMET.fit(CLMET_train_x, CLMET_train_y)"
   ]
  },
  {
   "cell_type": "code",
   "execution_count": null,
   "metadata": {},
   "outputs": [],
   "source": [
    "y_pred_train = CLMET.predict(CLMET_train_x)\n",
    "mean_squared_error(CLMET_train_y, y_pred_train)"
   ]
  },
  {
   "cell_type": "code",
   "execution_count": null,
   "metadata": {},
   "outputs": [],
   "source": [
    "y_pred_val = CLMET.predict(CLMET_val_x)\n",
    "mean_squared_error(CLMET_val_y, y_pred_val)"
   ]
  },
  {
   "cell_type": "code",
   "execution_count": null,
   "metadata": {},
   "outputs": [],
   "source": [
    "y_pred_test = CLMET.predict(CLMET_test_x)\n",
    "mean_squared_error(CLMET_test_y, y_pred_test)"
   ]
  },
  {
   "cell_type": "markdown",
   "metadata": {},
   "source": [
    "**Linear Regression with subwords**"
   ]
  },
  {
   "cell_type": "code",
   "execution_count": null,
   "metadata": {},
   "outputs": [],
   "source": [
    "DTA = Pipeline([ ('unigram_vectorizer', CountVectorizer(min_df = 800)),\n",
    "                    ('feature_selector', SelectKBest(f_regression, k='all')),\n",
    "                         ('ridge_reg', linear_model.Ridge())\n",
    "                        ])"
   ]
  },
  {
   "cell_type": "code",
   "execution_count": null,
   "metadata": {},
   "outputs": [],
   "source": [
    "DTA.fit(DTA_train_x, DTA_train_y)"
   ]
  },
  {
   "cell_type": "code",
   "execution_count": null,
   "metadata": {},
   "outputs": [],
   "source": [
    "y_pred_train = DTA.predict(DTA_train_x)\n",
    "mean_squared_error(DTA_train_y, y_pred_train)"
   ]
  },
  {
   "cell_type": "code",
   "execution_count": null,
   "metadata": {},
   "outputs": [],
   "source": [
    "y_pred_val = DTA.predict(DTA_val_x)\n",
    "mean_squared_error(DTA_val_y, y_pred_val)"
   ]
  },
  {
   "cell_type": "code",
   "execution_count": null,
   "metadata": {},
   "outputs": [],
   "source": [
    "y_pred_test = DTA.predict(DTA_test_x)\n",
    "mean_squared_error(DTA_test_y, y_pred_test)"
   ]
  },
  {
   "cell_type": "code",
   "execution_count": null,
   "metadata": {},
   "outputs": [],
   "source": [
    "GERMANC = Pipeline([ ('unigram_vectorizer', CountVectorizer(min_df = 105)),\n",
    "                    ('feature_selector', SelectKBest(f_regression, k=44)),\n",
    "                         ('ridge_reg', linear_model.Ridge())\n",
    "                        ])"
   ]
  },
  {
   "cell_type": "code",
   "execution_count": null,
   "metadata": {},
   "outputs": [],
   "source": [
    "GERMANC.fit(GERMANC_train_x, GERMANC_train_y)"
   ]
  },
  {
   "cell_type": "code",
   "execution_count": null,
   "metadata": {},
   "outputs": [],
   "source": [
    "y_pred_train = GERMANC.predict(GERMANC_train_x)\n",
    "mean_squared_error(GERMANC_train_y, y_pred_train)"
   ]
  },
  {
   "cell_type": "code",
   "execution_count": null,
   "metadata": {},
   "outputs": [],
   "source": [
    "y_pred_val = GERMANC.predict(GERMANC_val_x)\n",
    "mean_squared_error(GERMANC_val_y, y_pred_val)"
   ]
  },
  {
   "cell_type": "code",
   "execution_count": null,
   "metadata": {},
   "outputs": [],
   "source": [
    "y_pred_test = GERMANC.predict(GERMANC_test_x)\n",
    "mean_squared_error(GERMANC_test_y, y_pred_test)"
   ]
  },
  {
   "cell_type": "code",
   "execution_count": null,
   "metadata": {},
   "outputs": [],
   "source": [
    "ARCHER = Pipeline([ ('unigram_vectorizer', CountVectorizer(min_df = 500)),\n",
    "                    ('feature_selector', SelectKBest(f_regression, k='all')),\n",
    "                         ('ridge_reg', linear_model.Ridge())\n",
    "                        ])"
   ]
  },
  {
   "cell_type": "code",
   "execution_count": null,
   "metadata": {},
   "outputs": [],
   "source": [
    "ARCHER.fit(ARCHER_train_x, ARCHER_train_y)"
   ]
  },
  {
   "cell_type": "code",
   "execution_count": null,
   "metadata": {},
   "outputs": [],
   "source": [
    "y_pred_train = ARCHER.predict(ARCHER_train_x)\n",
    "mean_squared_error(ARCHER_train_y, y_pred_train)"
   ]
  },
  {
   "cell_type": "code",
   "execution_count": null,
   "metadata": {},
   "outputs": [],
   "source": [
    "y_pred_val = ARCHER.predict(ARCHER_val_x)\n",
    "mean_squared_error(ARCHER_val_y, y_pred_val)"
   ]
  },
  {
   "cell_type": "code",
   "execution_count": null,
   "metadata": {},
   "outputs": [],
   "source": [
    "y_pred_test = ARCHER.predict(ARCHER_test_x)\n",
    "mean_squared_error(ARCHER_test_y, y_pred_test)"
   ]
  },
  {
   "cell_type": "code",
   "execution_count": null,
   "metadata": {},
   "outputs": [],
   "source": [
    "CLMET = Pipeline([ ('unigram_vectorizer', CountVectorizer(min_df = 167)),\n",
    "                    ('feature_selector', SelectKBest(f_regression, k=40)),\n",
    "                         ('ridge_reg', linear_model.Ridge())\n",
    "                        ])"
   ]
  },
  {
   "cell_type": "code",
   "execution_count": null,
   "metadata": {},
   "outputs": [],
   "source": [
    "CLMET.fit(CLMET_train_x, CLMET_train_y)"
   ]
  },
  {
   "cell_type": "code",
   "execution_count": null,
   "metadata": {},
   "outputs": [],
   "source": [
    "y_pred_train = CLMET.predict(CLMET_train_x)\n",
    "mean_squared_error(CLMET_train_y, y_pred_train)"
   ]
  },
  {
   "cell_type": "code",
   "execution_count": null,
   "metadata": {},
   "outputs": [],
   "source": [
    "y_pred_val = CLMET.predict(CLMET_val_x)\n",
    "mean_squared_error(CLMET_val_y, y_pred_val)"
   ]
  },
  {
   "cell_type": "code",
   "execution_count": null,
   "metadata": {},
   "outputs": [],
   "source": [
    "y_pred_test = CLMET.predict(CLMET_test_x)\n",
    "mean_squared_error(CLMET_test_y, y_pred_test)"
   ]
  },
  {
   "cell_type": "markdown",
   "metadata": {},
   "source": [
    "**Support Vector Regression with words**"
   ]
  },
  {
   "cell_type": "code",
   "execution_count": null,
   "metadata": {},
   "outputs": [],
   "source": [
    "DTA = Pipeline([ ('unigram_vectorizer', CountVectorizer(tokenizer=tokenizer_word, min_df = 800)),\n",
    "                    ('feature_selector', SelectKBest(f_regression, k=150)),\n",
    "                         ('svr', svm.SVR())\n",
    "                        ])"
   ]
  },
  {
   "cell_type": "code",
   "execution_count": null,
   "metadata": {},
   "outputs": [],
   "source": [
    "DTA.fit(DTA_train_x, DTA_train_y)"
   ]
  },
  {
   "cell_type": "code",
   "execution_count": null,
   "metadata": {},
   "outputs": [],
   "source": [
    "y_pred_train = DTA.predict(DTA_train_x)\n",
    "mean_squared_error(DTA_train_y, y_pred_train)"
   ]
  },
  {
   "cell_type": "code",
   "execution_count": null,
   "metadata": {},
   "outputs": [],
   "source": [
    "y_pred_val = DTA.predict(DTA_val_x)\n",
    "mean_squared_error(DTA_val_y, y_pred_val)"
   ]
  },
  {
   "cell_type": "code",
   "execution_count": null,
   "metadata": {},
   "outputs": [],
   "source": [
    "y_pred_test = DTA.predict(DTA_test_x)\n",
    "mean_squared_error(DTA_test_y, y_pred_test)"
   ]
  },
  {
   "cell_type": "code",
   "execution_count": null,
   "metadata": {},
   "outputs": [],
   "source": [
    "GERMANC = Pipeline([ ('unigram_vectorizer', CountVectorizer(tokenizer=tokenizer_word, min_df = 105)),\n",
    "                    ('feature_selector', SelectKBest(f_regression, k=22)),\n",
    "                         ('svr', svm.SVR())\n",
    "                        ])"
   ]
  },
  {
   "cell_type": "code",
   "execution_count": null,
   "metadata": {},
   "outputs": [],
   "source": [
    "GERMANC.fit(GERMANC_train_x, GERMANC_train_y)"
   ]
  },
  {
   "cell_type": "code",
   "execution_count": null,
   "metadata": {},
   "outputs": [],
   "source": [
    "y_pred_train = GERMANC.predict(GERMANC_train_x)\n",
    "mean_squared_error(GERMANC_train_y, y_pred_train)"
   ]
  },
  {
   "cell_type": "code",
   "execution_count": null,
   "metadata": {},
   "outputs": [],
   "source": [
    "y_pred_val = GERMANC.predict(GERMANC_val_x)\n",
    "mean_squared_error(GERMANC_val_y, y_pred_val)"
   ]
  },
  {
   "cell_type": "code",
   "execution_count": null,
   "metadata": {},
   "outputs": [],
   "source": [
    "y_pred_test = GERMANC.predict(GERMANC_test_x)\n",
    "mean_squared_error(GERMANC_test_y, y_pred_test)"
   ]
  },
  {
   "cell_type": "code",
   "execution_count": null,
   "metadata": {},
   "outputs": [],
   "source": [
    "ARCHER = Pipeline([ ('unigram_vectorizer', CountVectorizer(tokenizer=tokenizer_word, min_df = 500)),\n",
    "                    ('feature_selector', SelectKBest(f_regression, k=130)),\n",
    "                         ('svr', svm.SVR())\n",
    "                        ])"
   ]
  },
  {
   "cell_type": "code",
   "execution_count": null,
   "metadata": {},
   "outputs": [],
   "source": [
    "ARCHER.fit(ARCHER_train_x, ARCHER_train_y)"
   ]
  },
  {
   "cell_type": "code",
   "execution_count": null,
   "metadata": {},
   "outputs": [],
   "source": [
    "y_pred_train = ARCHER.predict(ARCHER_train_x)\n",
    "mean_squared_error(ARCHER_train_y, y_pred_train)"
   ]
  },
  {
   "cell_type": "code",
   "execution_count": null,
   "metadata": {},
   "outputs": [],
   "source": [
    "y_pred_val = ARCHER.predict(ARCHER_val_x)\n",
    "mean_squared_error(ARCHER_val_y, y_pred_val)"
   ]
  },
  {
   "cell_type": "code",
   "execution_count": null,
   "metadata": {},
   "outputs": [],
   "source": [
    "y_pred_test = ARCHER.predict(ARCHER_test_x)\n",
    "mean_squared_error(ARCHER_test_y, y_pred_test)"
   ]
  },
  {
   "cell_type": "code",
   "execution_count": null,
   "metadata": {},
   "outputs": [],
   "source": [
    "CLMET = Pipeline([('unigram_vectorizer', CountVectorizer(tokenizer=tokenizer_word, min_df = 176)),\n",
    "                    ('feature_selector', SelectKBest(f_regression, k=32)),\n",
    "                         ('svr', svm.SVR())]\n",
    "                  )"
   ]
  },
  {
   "cell_type": "code",
   "execution_count": null,
   "metadata": {},
   "outputs": [],
   "source": [
    "CLMET.fit(CLMET_train_x, CLMET_train_y)"
   ]
  },
  {
   "cell_type": "code",
   "execution_count": null,
   "metadata": {},
   "outputs": [],
   "source": [
    "y_pred_train = CLMET.predict(CLMET_train_x)\n",
    "mean_squared_error(CLMET_train_y, y_pred_train)"
   ]
  },
  {
   "cell_type": "code",
   "execution_count": null,
   "metadata": {},
   "outputs": [],
   "source": [
    "y_pred_val = CLMET.predict(CLMET_val_x)\n",
    "mean_squared_error(CLMET_val_y, y_pred_val)"
   ]
  },
  {
   "cell_type": "code",
   "execution_count": null,
   "metadata": {},
   "outputs": [],
   "source": [
    "y_pred_test = CLMET.predict(CLMET_test_x)\n",
    "mean_squared_error(CLMET_test_y, y_pred_test)"
   ]
  },
  {
   "cell_type": "markdown",
   "metadata": {},
   "source": [
    "**Support Vector Regression with subwords**"
   ]
  },
  {
   "cell_type": "code",
   "execution_count": null,
   "metadata": {},
   "outputs": [],
   "source": [
    "DTA = Pipeline([('subwords', SubwordTransformer(tokenizer=tokenizer_word, number_of_merges=6, n_best = 10)),\n",
    "                         ('svr', svm.SVR())\n",
    "                        ])"
   ]
  },
  {
   "cell_type": "code",
   "execution_count": null,
   "metadata": {},
   "outputs": [],
   "source": [
    "DTA.fit(DTA_train_x, DTA_train_y)"
   ]
  },
  {
   "cell_type": "code",
   "execution_count": null,
   "metadata": {},
   "outputs": [],
   "source": [
    "y_pred_train = DTA.predict(DTA_train_x)\n",
    "mean_squared_error(DTA_train_y, y_pred_train)"
   ]
  },
  {
   "cell_type": "code",
   "execution_count": null,
   "metadata": {},
   "outputs": [],
   "source": [
    "y_pred_val = DTA.predict(DTA_val_x)\n",
    "mean_squared_error(DTA_val_y, y_pred_val)"
   ]
  },
  {
   "cell_type": "code",
   "execution_count": null,
   "metadata": {},
   "outputs": [],
   "source": [
    "y_pred_test = DTA.predict(DTA_test_x)\n",
    "mean_squared_error(DTA_test_y, y_pred_test)"
   ]
  },
  {
   "cell_type": "code",
   "execution_count": null,
   "metadata": {},
   "outputs": [],
   "source": [
    "GERMANC = Pipeline([('subwords', SubwordTransformer(tokenizer=tokenizer_word, number_of_merges=1, n_best = 12)),\n",
    "                         ('svr', svm.SVR())\n",
    "                        ])"
   ]
  },
  {
   "cell_type": "code",
   "execution_count": null,
   "metadata": {},
   "outputs": [],
   "source": [
    "GERMANC.fit(GERMANC_train_x, GERMANC_train_y)"
   ]
  },
  {
   "cell_type": "code",
   "execution_count": null,
   "metadata": {},
   "outputs": [],
   "source": [
    "y_pred_train = GERMANC.predict(GERMANC_train_x)\n",
    "mean_squared_error(GERMANC_train_y, y_pred_train)"
   ]
  },
  {
   "cell_type": "code",
   "execution_count": null,
   "metadata": {},
   "outputs": [],
   "source": [
    "y_pred_val = GERMANC.predict(GERMANC_val_x)\n",
    "mean_squared_error(GERMANC_val_y, y_pred_val)"
   ]
  },
  {
   "cell_type": "code",
   "execution_count": null,
   "metadata": {},
   "outputs": [],
   "source": [
    "y_pred_test = GERMANC.predict(GERMANC_test_x)\n",
    "mean_squared_error(GERMANC_test_y, y_pred_test)"
   ]
  },
  {
   "cell_type": "code",
   "execution_count": null,
   "metadata": {},
   "outputs": [],
   "source": [
    "ARCHER = Pipeline([('subwords', SubwordTransformer(tokenizer=tokenizer_word, number_of_merges=1, n_best = 90)),\n",
    "                         ('svr', svm.SVR())\n",
    "                        ])"
   ]
  },
  {
   "cell_type": "code",
   "execution_count": null,
   "metadata": {},
   "outputs": [],
   "source": [
    "ARCHER.fit(ARCHER_train_x, ARCHER_train_y)"
   ]
  },
  {
   "cell_type": "code",
   "execution_count": null,
   "metadata": {},
   "outputs": [],
   "source": [
    "y_pred_train = ARCHER.predict(ARCHER_train_x)\n",
    "mean_squared_error(ARCHER_train_y, y_pred_train)"
   ]
  },
  {
   "cell_type": "code",
   "execution_count": null,
   "metadata": {},
   "outputs": [],
   "source": [
    "y_pred_val = ARCHER.predict(ARCHER_val_x)\n",
    "mean_squared_error(ARCHER_val_y, y_pred_val)"
   ]
  },
  {
   "cell_type": "code",
   "execution_count": null,
   "metadata": {},
   "outputs": [],
   "source": [
    "y_pred_test = ARCHER.predict(ARCHER_test_x)\n",
    "mean_squared_error(ARCHER_test_y, y_pred_test)"
   ]
  },
  {
   "cell_type": "code",
   "execution_count": null,
   "metadata": {},
   "outputs": [],
   "source": [
    "CLMET = Pipeline([('subwords', SubwordTransformer(tokenizer=tokenizer_word, number_of_merges=2, n_best = 5)),\n",
    "                         ('svr', svm.SVR())\n",
    "                        ])"
   ]
  },
  {
   "cell_type": "code",
   "execution_count": null,
   "metadata": {},
   "outputs": [],
   "source": [
    "CLMET.fit(CLMET_train_x, CLMET_train_y)"
   ]
  },
  {
   "cell_type": "code",
   "execution_count": null,
   "metadata": {},
   "outputs": [],
   "source": [
    "y_pred_train = CLMET.predict(CLMET_train_x)\n",
    "mean_squared_error(CLMET_train_y, y_pred_train)"
   ]
  },
  {
   "cell_type": "code",
   "execution_count": null,
   "metadata": {},
   "outputs": [],
   "source": [
    "y_pred_val = CLMET.predict(CLMET_val_x)\n",
    "mean_squared_error(CLMET_val_y, y_pred_val)"
   ]
  },
  {
   "cell_type": "code",
   "execution_count": null,
   "metadata": {},
   "outputs": [],
   "source": [
    "y_pred_test = CLMET.predict(CLMET_test_x)\n",
    "mean_squared_error(CLMET_test_y, y_pred_test)"
   ]
  },
  {
   "cell_type": "code",
   "execution_count": null,
   "metadata": {},
   "outputs": [],
   "source": []
  }
 ],
 "metadata": {
  "kernelspec": {
   "display_name": "Python 3.7.7 64-bit",
   "language": "python",
   "name": "python37764bitb683183fb75b4e14be8d676f44524cdb"
  },
  "language_info": {
   "codemirror_mode": {
    "name": "ipython",
    "version": 3
   },
   "file_extension": ".py",
   "mimetype": "text/x-python",
   "name": "python",
   "nbconvert_exporter": "python",
   "pygments_lexer": "ipython3",
   "version": "3.7.7"
  }
 },
 "nbformat": 4,
 "nbformat_minor": 4
}
