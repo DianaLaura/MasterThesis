{
 "cells": [
  {
   "cell_type": "code",
   "execution_count": 1,
   "metadata": {},
   "outputs": [
    {
     "name": "stderr",
     "output_type": "stream",
     "text": [
      "/Users/dianaenggist/opt/anaconda3/envs/R_python/lib/python3.7/site-packages/sklearn/utils/deprecation.py:144: FutureWarning: The sklearn.metrics.scorer module is  deprecated in version 0.22 and will be removed in version 0.24. The corresponding classes / functions should instead be imported from sklearn.metrics. Anything that cannot be imported from sklearn.metrics is now part of the private API.\n",
      "  warnings.warn(message, FutureWarning)\n",
      "/Users/dianaenggist/opt/anaconda3/envs/R_python/lib/python3.7/site-packages/sklearn/utils/deprecation.py:144: FutureWarning: The sklearn.feature_selection.base module is  deprecated in version 0.22 and will be removed in version 0.24. The corresponding classes / functions should instead be imported from sklearn.feature_selection. Anything that cannot be imported from sklearn.feature_selection is now part of the private API.\n",
      "  warnings.warn(message, FutureWarning)\n"
     ]
    }
   ],
   "source": [
    "import pandas as pd\n",
    "import numpy as np\n",
    "import nltk\n",
    "\n",
    "from sklearn.pipeline import Pipeline\n",
    "from sklearn.feature_extraction.text import CountVectorizer\n",
    "from sklearn.feature_selection import SelectKBest , f_regression\n",
    "from sklearn import linear_model\n",
    "from sklearn.metrics import mean_squared_error\n",
    "import sklearn.utils\n",
    "from sklearn.preprocessing import FunctionTransformer\n",
    "\n",
    "from Selfwritten_modules.SubwordTransformer import SubwordTransformer\n",
    "\n",
    "import re\n",
    "\n",
    "import eli5"
   ]
  },
  {
   "cell_type": "markdown",
   "metadata": {},
   "source": [
    "Test bpe-algorithm on a small play-set:"
   ]
  },
  {
   "cell_type": "code",
   "execution_count": 2,
   "metadata": {},
   "outputs": [],
   "source": [
    "playset = pd.read_csv('/users/dianaenggist/Documents/Masterprojekt/testfile_deutsch_tokenized.csv', sep=';')"
   ]
  },
  {
   "cell_type": "code",
   "execution_count": 3,
   "metadata": {
    "scrolled": true
   },
   "outputs": [
    {
     "name": "stdout",
     "output_type": "stream",
     "text": [
      "   Unnamed: 0                                               Text\n",
      "0           0  [['Die', 'Pressekonferenz', 'ist', 'beendet', ...\n",
      "1           1  [['Strupler', ':', '«', 'Wir', 'müssen', 'zuer...\n",
      "2           2  [['Koch', ':', '«', 'Es', 'gibt', 'bereits', '...\n"
     ]
    }
   ],
   "source": [
    "print(playset)\n",
    "playset = playset['Text']"
   ]
  },
  {
   "cell_type": "code",
   "execution_count": 4,
   "metadata": {},
   "outputs": [],
   "source": [
    "#build tokenizer that just substitutes '[' and ']' with ','\n",
    "def tokenizer_word(doc):\n",
    "    doc = re.sub('[(\\[+)|(\\]+)]', '', doc)\n",
    "    doc = re.split(',', doc)\n",
    "    return doc"
   ]
  },
  {
   "cell_type": "code",
   "execution_count": 5,
   "metadata": {
    "scrolled": false
   },
   "outputs": [],
   "source": [
    "transformer = SubwordTransformer(tokenizer=tokenizer_word)\n",
    "\n",
    "#kw_args={'tokenizer':tokenizer_word}\n",
    "\n",
    "data = transformer.fit_transform(playset)"
   ]
  },
  {
   "cell_type": "code",
   "execution_count": 6,
   "metadata": {},
   "outputs": [
    {
     "name": "stdout",
     "output_type": "stream",
     "text": [
      "[['en' 'on' 'er' 'es' 'ie' 'an' 'ei' 'eh' 'den' 'Die' 'en' 'er' 'st' 'ei'\n",
      "  'ir' 'ab' 'ch' 'ne' 'St' 'erst' 'en' 'er' 'ch' 'ei' 'sch' 'un' 'an'\n",
      "  'Es' 'ber' 'eit']\n",
      " ['11' '5' '5' '4' '3' '3' '3' '3' '3' '2' '0' '0' '0' '0' '0' '0' '0'\n",
      "  '0' '0' '0' '0' '0' '0' '0' '0' '0' '0' '0' '0' '0']\n",
      " ['9' '0' '5' '0' '0' '0' '4' '0' '0' '0' '9' '5' '5' '4' '3' '3' '3' '3'\n",
      "  '2' '2' '0' '0' '0' '0' '0' '0' '0' '0' '0' '0']\n",
      " ['6' '0' '5' '0' '0' '3' '3' '0' '0' '0' '6' '5' '0' '3' '0' '0' '4' '0'\n",
      "  '0' '0' '6' '5' '4' '3' '3' '3' '3' '2' '2' '2']]\n"
     ]
    }
   ],
   "source": [
    "print(data)"
   ]
  },
  {
   "cell_type": "code",
   "execution_count": 7,
   "metadata": {},
   "outputs": [
    {
     "name": "stdout",
     "output_type": "stream",
     "text": [
      "['en', 'on', 'er', 'es', 'ie', 'an', 'ei', 'eh', 'den', 'Die', 'en', 'er', 'st', 'ei', 'ir', 'ab', 'ch', 'ne', 'St', 'erst', 'en', 'er', 'ch', 'ei', 'sch', 'un', 'an', 'Es', 'ber', 'eit']\n"
     ]
    }
   ],
   "source": [
    "print(transformer.get_feature_names())"
   ]
  },
  {
   "cell_type": "code",
   "execution_count": 8,
   "metadata": {},
   "outputs": [
    {
     "name": "stdout",
     "output_type": "stream",
     "text": [
      "defaultdict(<class 'int'>, {'en': 26, 'on': 5, 'er': 15, 'es': 4, 'ie': 3, 'an': 6, 'ei': 10, 'eh': 3, 'den': 3, 'Die': 2, 'st': 5, 'ir': 3, 'ab': 3, 'ch': 7, 'ne': 3, 'St': 2, 'erst': 2, 'sch': 3, 'un': 3, 'Es': 2, 'ber': 2, 'eit': 2})\n"
     ]
    }
   ],
   "source": [
    "print(transformer.get_subwords())"
   ]
  },
  {
   "cell_type": "markdown",
   "metadata": {},
   "source": [
    "defaultdict(<class 'int'>, {'en': 21, 'on': 5, 'er': 10, 'es': 4, 'ie': 6, 'an': 3, 'ei': 10, 'eh': 3, 'den': 3, 'Die': 1, 'st': 6, 'it': 6, 'll': 4, 'ir': 3, 'be': 6, 'St': 3, 'ti': 4, 'ch': 7, 'ge': 7, 'un': 4, 'ne': 6, 'uf': 3, 'sch': 4, 'am': 3})"
   ]
  },
  {
   "cell_type": "code",
   "execution_count": null,
   "metadata": {},
   "outputs": [],
   "source": []
  },
  {
   "cell_type": "code",
   "execution_count": null,
   "metadata": {},
   "outputs": [],
   "source": []
  }
 ],
 "metadata": {
  "kernelspec": {
   "display_name": "Python 3",
   "language": "python",
   "name": "python3"
  },
  "language_info": {
   "codemirror_mode": {
    "name": "ipython",
    "version": 3
   },
   "file_extension": ".py",
   "mimetype": "text/x-python",
   "name": "python",
   "nbconvert_exporter": "python",
   "pygments_lexer": "ipython3",
   "version": "3.7.7"
  }
 },
 "nbformat": 4,
 "nbformat_minor": 4
}
